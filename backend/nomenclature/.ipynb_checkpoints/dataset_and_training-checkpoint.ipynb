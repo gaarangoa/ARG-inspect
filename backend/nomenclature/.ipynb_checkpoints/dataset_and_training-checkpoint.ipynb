{
 "cells": [
  {
   "cell_type": "code",
   "execution_count": 13,
   "metadata": {
    "scrolled": false
   },
   "outputs": [],
   "source": [
    "from pymongo import MongoClient\n",
    "\n",
    "db = MongoClient().argpedia['master']\n",
    "\n",
    "card_hits = [i for i in db.find() if i['entry']['database']=='CARD']"
   ]
  },
  {
   "cell_type": "code",
   "execution_count": 14,
   "metadata": {},
   "outputs": [
    {
     "name": "stdout",
     "output_type": "stream",
     "text": [
      "Card Hits: 2355\n"
     ]
    }
   ],
   "source": [
    "# Genes in the card database used for training\n",
    "print(f'Card Hits: {len(card_hits)}')"
   ]
  },
  {
   "cell_type": "code",
   "execution_count": 76,
   "metadata": {},
   "outputs": [
    {
     "name": "stdout",
     "output_type": "stream",
     "text": [
      "Dataset: 2355, Labels: 2355\n"
     ]
    }
   ],
   "source": [
    "# subtract the labels from the gene names\n",
    "raw_labels = [i['entry']['subtype'] for i in card_hits]\n",
    "import re\n",
    "def get_gene_shape(s):\n",
    "    replaced = re.sub(r'[A-Z]', 'X', s)\n",
    "    replaced = re.sub(r'[a-z]', 'x', replaced)\n",
    "    replaced = re.sub(r'[0-9]', 'N', replaced)\n",
    "    replaced = re.sub('N+', 'N', replaced)\n",
    "    return replaced\n",
    "\n",
    "def get_info(alignments):\n",
    "    data = []\n",
    "    for alignment in alignments:\n",
    "        if alignment['best_hit_database'] == 'CARD':\n",
    "            try:\n",
    "                data += [i['category_aro_name'] for i in alignment['metadata']]\n",
    "            except:\n",
    "                pass\n",
    "        if alignment['best_hit_database'] == 'megares':\n",
    "            data += [alignment['type'], alignment['subtype']]\n",
    "        if alignment['best_hit_database'] == 'ARDB':\n",
    "            try:\n",
    "                data += [alignment['metadata']['subtype']] + [i['type'] for i in alignment['metadata']['resistance_profile']]\n",
    "            except:\n",
    "                data += [alignment['metadata']['subtype']]\n",
    "        if alignment['best_hit_database'] == 'RESFINDER':\n",
    "            data += [alignment['type'], alignment['subtype']]\n",
    "        if alignment['best_hit_database'] == 'SARG':\n",
    "            data += [alignment['type'], alignment['subtype']]\n",
    "        if alignment['best_hit_database'] == 'ARG-ANNOT':\n",
    "            data += [alignment['type'], alignment['subtype']]\n",
    "        if alignment['best_hit_database'] == 'ncbi-arg':\n",
    "            data += [alignment['type'], alignment['subtype']]\n",
    "    \n",
    "    return data\n",
    "\n",
    "    \n",
    "y = [get_gene_shape(i) for i in raw_labels]\n",
    "X = [get_info(i['besthit']['alignments']) for i in card_hits]\n",
    "\n",
    "print(f'Dataset: {len(X)}, Labels: {len(y)}')\n"
   ]
  },
  {
   "cell_type": "code",
   "execution_count": 89,
   "metadata": {},
   "outputs": [],
   "source": [
    "from sklearn.model_selection import train_test_split\n",
    "X_train, X_test, y_train, y_test = train_test_split(X, y, test_size=0.2)\n",
    "\n",
    "fo = open('train.txt', 'w')\n",
    "for ix,i in enumerate(X_train):\n",
    "    fo.write(\" \".join([str(j) for j in i])+\"\\t__label__\"+y_train[ix]+'\\n')\n",
    "\n",
    "fo = open('test.txt', 'w')\n",
    "for ix,i in enumerate(X_test):\n",
    "    fo.write(\" \".join([str(j) for j in i])+\"\\t__label__\"+y_test[ix]+'\\n')"
   ]
  },
  {
   "cell_type": "code",
   "execution_count": 90,
   "metadata": {},
   "outputs": [
    {
     "name": "stdout",
     "output_type": "stream",
     "text": [
      "Read 0M words\n",
      "Number of words:  4158\n",
      "Number of labels: 77\n",
      "Progress: 100.0%  words/sec/thread: 735058  lr: 0.000000  loss: 2.307008  eta: 0h0m 370295  eta: 0h0m   eta: 0h0m \n"
     ]
    }
   ],
   "source": [
    "!fasttext supervised -input train.txt -output trained_model -epoch 10 -dim 100 -ws 3 -wordNgrams 2"
   ]
  },
  {
   "cell_type": "code",
   "execution_count": null,
   "metadata": {},
   "outputs": [],
   "source": [
    "!fasttext test trained_model.bin test.txt"
   ]
  },
  {
   "cell_type": "code",
   "execution_count": null,
   "metadata": {},
   "outputs": [],
   "source": []
  }
 ],
 "metadata": {
  "kernelspec": {
   "display_name": "Python 3",
   "language": "python",
   "name": "python3"
  },
  "language_info": {
   "codemirror_mode": {
    "name": "ipython",
    "version": 3
   },
   "file_extension": ".py",
   "mimetype": "text/x-python",
   "name": "python",
   "nbconvert_exporter": "python",
   "pygments_lexer": "ipython3",
   "version": "3.6.1"
  }
 },
 "nbformat": 4,
 "nbformat_minor": 2
}
